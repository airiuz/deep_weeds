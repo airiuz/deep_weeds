{
 "cells": [
  {
   "cell_type": "code",
   "execution_count": 1,
   "id": "6792bba4",
   "metadata": {},
   "outputs": [],
   "source": [
    "import tensorflow as tf\n",
    "from tensorflow.keras.layers import Dense, Flatten, Conv2D , MaxPooling2D , BatchNormalization , GlobalAveragePooling2D\n",
    "from tensorflow.keras.models import save_model,Model\n",
    "import matplotlib.pyplot as plt\n",
    "import numpy as np\n",
    "import cv2"
   ]
  },
  {
   "cell_type": "code",
   "execution_count": 2,
   "id": "4552e6ae",
   "metadata": {},
   "outputs": [
    {
     "name": "stdout",
     "output_type": "stream",
     "text": [
      "WARNING:tensorflow:From C:\\Users\\aeroa\\AppData\\Local\\Temp\\ipykernel_19128\\501681495.py:1: is_gpu_available (from tensorflow.python.framework.test_util) is deprecated and will be removed in a future version.\n",
      "Instructions for updating:\n",
      "Use `tf.config.list_physical_devices('GPU')` instead.\n"
     ]
    },
    {
     "data": {
      "text/plain": [
       "False"
      ]
     },
     "execution_count": 2,
     "metadata": {},
     "output_type": "execute_result"
    }
   ],
   "source": [
    "tf.test.is_gpu_available(\n",
    "    cuda_only=False, min_cuda_compute_capability=None\n",
    ")"
   ]
  },
  {
   "cell_type": "code",
   "execution_count": 3,
   "id": "2609dccb",
   "metadata": {},
   "outputs": [
    {
     "data": {
      "text/plain": [
       "[]"
      ]
     },
     "execution_count": 3,
     "metadata": {},
     "output_type": "execute_result"
    }
   ],
   "source": [
    "tf.config.list_physical_devices('GPU')"
   ]
  },
  {
   "cell_type": "code",
   "execution_count": 6,
   "id": "3b1eda44",
   "metadata": {},
   "outputs": [],
   "source": [
    "import tensorflow_datasets as tfds"
   ]
  },
  {
   "cell_type": "code",
   "execution_count": 3,
   "id": "7e30a2aa",
   "metadata": {},
   "outputs": [],
   "source": [
    "dataset , info = tfds.load(\"deep_weeds\", split = \"train\"  ,with_info = True)"
   ]
  },
  {
   "cell_type": "code",
   "execution_count": 4,
   "id": "bf0bceab",
   "metadata": {},
   "outputs": [],
   "source": [
    "batch_size = 256\n",
    "dataset = dataset.batch(batch_size).prefetch(tf.data.experimental.AUTOTUNE)"
   ]
  },
  {
   "cell_type": "code",
   "execution_count": null,
   "id": "69b4c571",
   "metadata": {},
   "outputs": [],
   "source": [
    "# images = []\n",
    "# for i in range(len(dataset['image'])):\n",
    "#     images.append(tf.cast(dataset['image'][i] , np.float32)/255.0)\n",
    "# images = np.array(images)\n",
    "# label = np.array(dataset['label']).astype(np.float32)"
   ]
  },
  {
   "cell_type": "code",
   "execution_count": null,
   "id": "bc07de00",
   "metadata": {},
   "outputs": [],
   "source": [
    "# for data in dataset:\n",
    "#     images = data[\"image\"]\n",
    "#     labels = data[\"label\"]\n",
    "#     resized_images = tf.map_fn(lambda image: np.resize(image, (224,224 , 3)), images)\n",
    "#     tf.cast(resized_images , tf.float32) / 255.0 , labels"
   ]
  },
  {
   "cell_type": "code",
   "execution_count": null,
   "id": "a9905513",
   "metadata": {},
   "outputs": [],
   "source": [
    "# len(images) , len(label)"
   ]
  },
  {
   "cell_type": "code",
   "execution_count": null,
   "id": "9ebc3b94",
   "metadata": {},
   "outputs": [],
   "source": [
    "# del dataset"
   ]
  },
  {
   "cell_type": "code",
   "execution_count": null,
   "id": "ee6b846c",
   "metadata": {},
   "outputs": [],
   "source": [
    "# images[0].shape"
   ]
  },
  {
   "cell_type": "code",
   "execution_count": null,
   "id": "3997c9f3",
   "metadata": {},
   "outputs": [],
   "source": [
    "# train_ds = tf.data.Dataset.from_tensor_slices((images[:15000].copy(), label[:15000].copy())).batch(4)\n",
    "# val_ds = tf.data.Dataset.from_tensor_slices((images[15000:].copy(), label[15000:].copy())).batch(4)"
   ]
  },
  {
   "cell_type": "code",
   "execution_count": null,
   "id": "5836d9c1",
   "metadata": {},
   "outputs": [],
   "source": [
    "# train_ds"
   ]
  },
  {
   "cell_type": "code",
   "execution_count": null,
   "id": "cdca4d60",
   "metadata": {},
   "outputs": [],
   "source": [
    "# images = None\n",
    "# label = None\n",
    "# dataset = None"
   ]
  },
  {
   "cell_type": "code",
   "execution_count": null,
   "id": "f4a45b4f",
   "metadata": {},
   "outputs": [],
   "source": [
    "# train_ds = None\n",
    "# val_ds = None"
   ]
  },
  {
   "cell_type": "code",
   "execution_count": 17,
   "id": "4c42d673",
   "metadata": {},
   "outputs": [],
   "source": [
    "pre_model = tf.keras.applications.VGG19(weights='imagenet' , input_shape = (224,224,3) , include_top=False)\n",
    "pre_model.trainable = False"
   ]
  },
  {
   "cell_type": "code",
   "execution_count": 18,
   "id": "7bffe91f",
   "metadata": {},
   "outputs": [],
   "source": [
    "class TransferModel(Model):\n",
    "    def __init__(self , pre_model):\n",
    "        super(TransferModel, self).__init__()\n",
    "        self.pre_model = pre_model\n",
    "        self.apool = GlobalAveragePooling2D()\n",
    "        self.flatten = Flatten()\n",
    "        self.d = Dense(1024 , activation = 'relu')\n",
    "        self.d1 = Dense(9  , activation = 'softmax')\n",
    "\n",
    "    def call(self, x):\n",
    "        x = self.pre_model(x)\n",
    "        x = self.apool(x)\n",
    "        x = self.flatten(x)\n",
    "        x = self.d(x)\n",
    "        x = self.d1(x)\n",
    "        return x"
   ]
  },
  {
   "cell_type": "code",
   "execution_count": 19,
   "id": "379e6a41",
   "metadata": {},
   "outputs": [],
   "source": [
    "model = TransferModel(pre_model)"
   ]
  },
  {
   "cell_type": "code",
   "execution_count": 20,
   "id": "c670b5bd",
   "metadata": {},
   "outputs": [],
   "source": [
    "loss_object = tf.keras.losses.SparseCategoricalCrossentropy()\n",
    "optimizer = tf.keras.optimizers.Adam(learning_rate=0.001)"
   ]
  },
  {
   "cell_type": "code",
   "execution_count": 21,
   "id": "eebdd97a",
   "metadata": {},
   "outputs": [],
   "source": [
    "train_loss = tf.keras.metrics.Mean(name='train_loss')\n",
    "train_accuracy = tf.keras.metrics.SparseCategoricalAccuracy(name='train_accuracy')"
   ]
  },
  {
   "cell_type": "code",
   "execution_count": 22,
   "id": "6225ea76",
   "metadata": {},
   "outputs": [],
   "source": [
    "@tf.function\n",
    "def train_step(x_train, y_train):\n",
    "    with tf.GradientTape() as tape:\n",
    "        predictions = model(x_train, training=True)\n",
    "        loss = loss_object(y_train, predictions)\n",
    "    gradients = tape.gradient(loss, model.trainable_variables)\n",
    "    optimizer.apply_gradients(zip(gradients, model.trainable_variables))\n",
    "\n",
    "    train_loss(loss)\n",
    "    train_accuracy(y_train, predictions)"
   ]
  },
  {
   "cell_type": "code",
   "execution_count": null,
   "id": "c401cae3",
   "metadata": {},
   "outputs": [
    {
     "name": "stdout",
     "output_type": "stream",
     "text": [
      "17.625846899999942\n",
      "20.487529100000074\n",
      "21.549870299999952\n"
     ]
    }
   ],
   "source": [
    "import timeit\n",
    "start_time = timeit.default_timer()\n",
    "# code you want to evaluate\n",
    "EPOCHS = 1\n",
    "for epoch in range(EPOCHS):\n",
    "    train_loss.reset_states()\n",
    "    train_accuracy.reset_states()\n",
    "\n",
    "    for data in dataset:\n",
    "        images = data[\"image\"]\n",
    "        labels = data[\"label\"]\n",
    "        resized_images = tf.map_fn(lambda image: np.resize(image, (224,224 , 3)), images)\n",
    "        a = timeit.default_timer()\n",
    "        train_step(tf.cast(resized_images , tf.float32) / 255.0 , labels)\n",
    "        \n",
    "        print(timeit.default_timer() - a)\n",
    "\n",
    "\n",
    "    print(\n",
    "    f'Epoch {epoch + 1}, '\n",
    "    f'Loss: {train_loss.result()}, '\n",
    "    f'Accuracy: {train_accuracy.result()}, '\n",
    "  )\n",
    "elapsed = timeit.default_timer() - start_time"
   ]
  },
  {
   "cell_type": "code",
   "execution_count": null,
   "id": "4c8fbe40",
   "metadata": {},
   "outputs": [],
   "source": []
  },
  {
   "cell_type": "code",
   "execution_count": null,
   "id": "dec03e71",
   "metadata": {},
   "outputs": [],
   "source": []
  },
  {
   "cell_type": "code",
   "execution_count": 14,
   "id": "0856d2a0",
   "metadata": {},
   "outputs": [],
   "source": []
  },
  {
   "cell_type": "code",
   "execution_count": null,
   "id": "c160e51b",
   "metadata": {},
   "outputs": [],
   "source": [
    "model.compile(optimizer = tf.keras.optimizers.Adam(),\n",
    "              loss = tf.keras.losses.SparseCategoricalCrossentropy(),\n",
    "              metrics = tf.keras.metrics.SparseCategoricalAccuracy())"
   ]
  },
  {
   "cell_type": "code",
   "execution_count": null,
   "id": "72586b25",
   "metadata": {},
   "outputs": [],
   "source": [
    "del train_ds\n",
    "del val_ds"
   ]
  },
  {
   "cell_type": "code",
   "execution_count": null,
   "id": "d4fb5559",
   "metadata": {},
   "outputs": [],
   "source": [
    "import timeit\n",
    "start_time = timeit.default_timer()\n",
    "model.fit(images , label , epochs = 1, batch_size = 256)\n",
    "elapsed = timeit.default_timer() - start_time\n"
   ]
  },
  {
   "cell_type": "code",
   "execution_count": null,
   "id": "8ef88749",
   "metadata": {},
   "outputs": [],
   "source": []
  }
 ],
 "metadata": {
  "kernelspec": {
   "display_name": "Python 3 (ipykernel)",
   "language": "python",
   "name": "python3"
  },
  "language_info": {
   "codemirror_mode": {
    "name": "ipython",
    "version": 3
   },
   "file_extension": ".py",
   "mimetype": "text/x-python",
   "name": "python",
   "nbconvert_exporter": "python",
   "pygments_lexer": "ipython3",
   "version": "3.9.9"
  }
 },
 "nbformat": 4,
 "nbformat_minor": 5
}
